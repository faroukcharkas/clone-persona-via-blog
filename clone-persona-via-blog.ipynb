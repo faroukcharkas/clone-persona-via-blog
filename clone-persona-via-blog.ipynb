{
 "cells": [
  {
   "cell_type": "markdown",
   "id": "92b2d657-5810-40ce-a0c9-e056381807a4",
   "metadata": {},
   "source": [
    "# Clone Persona Via Blog\n",
    "Created by Farouk Charkas, in an effort to demonstrate technical capabilities for potential Delphi AI summer internship.\n",
    "\n",
    "## Technologies Used\n",
    "* Running on Brev.dev GPUs\n",
    "* Using a LLaMA model\n",
    "* Using Langchain for embedding\n",
    "* Using Feedparser for RSS scraping\n",
    "* BeautifulSoup for the cleaning\n",
    "* Chroma for the vector database\n",
    "* RetreivalQA for the RAG"
   ]
  },
  {
   "cell_type": "code",
   "execution_count": 201,
   "id": "eedbd4b3-d343-4557-8446-8aaf475a9e06",
   "metadata": {},
   "outputs": [],
   "source": [
    "import os\n",
    "os.environ[\"TOKENIZERS_PARALLELISM\"] = \"false\""
   ]
  },
  {
   "cell_type": "code",
   "execution_count": 202,
   "id": "a92e7f4f-055d-495f-980c-377938f568e1",
   "metadata": {},
   "outputs": [
    {
     "name": "stdout",
     "output_type": "stream",
     "text": [
      "\u001b[33mWARNING: Ignoring invalid distribution -ackaging (/home/ubuntu/.pyenv/versions/3.10.13/lib/python3.10/site-packages)\u001b[0m\u001b[33m\n",
      "\u001b[0m\u001b[33mWARNING: Ignoring invalid distribution -ackaging (/home/ubuntu/.pyenv/versions/3.10.13/lib/python3.10/site-packages)\u001b[0m\u001b[33m\n",
      "\u001b[0m\u001b[33mWARNING: Ignoring invalid distribution -ackaging (/home/ubuntu/.pyenv/versions/3.10.13/lib/python3.10/site-packages)\u001b[0m\u001b[33m\n",
      "\u001b[0m\u001b[33mWARNING: Ignoring invalid distribution -ackaging (/home/ubuntu/.pyenv/versions/3.10.13/lib/python3.10/site-packages)\u001b[0m\u001b[33m\n",
      "\u001b[0m\u001b[33mWARNING: Ignoring invalid distribution -ackaging (/home/ubuntu/.pyenv/versions/3.10.13/lib/python3.10/site-packages)\u001b[0m\u001b[33m\n",
      "\u001b[0m\u001b[33mWARNING: Ignoring invalid distribution -ackaging (/home/ubuntu/.pyenv/versions/3.10.13/lib/python3.10/site-packages)\u001b[0m\u001b[33m\n",
      "\u001b[0m\n",
      "\u001b[1m[\u001b[0m\u001b[34;49mnotice\u001b[0m\u001b[1;39;49m]\u001b[0m\u001b[39;49m A new release of pip is available: \u001b[0m\u001b[31;49m23.0.1\u001b[0m\u001b[39;49m -> \u001b[0m\u001b[32;49m24.0\u001b[0m\n",
      "\u001b[1m[\u001b[0m\u001b[34;49mnotice\u001b[0m\u001b[1;39;49m]\u001b[0m\u001b[39;49m To update, run: \u001b[0m\u001b[32;49mpip install --upgrade pip\u001b[0m\n",
      "\u001b[33mWARNING: Ignoring invalid distribution -ackaging (/home/ubuntu/.pyenv/versions/3.10.13/lib/python3.10/site-packages)\u001b[0m\u001b[33m\n",
      "\u001b[0m\u001b[33mWARNING: Ignoring invalid distribution -ackaging (/home/ubuntu/.pyenv/versions/3.10.13/lib/python3.10/site-packages)\u001b[0m\u001b[33m\n",
      "\u001b[0m\u001b[33mWARNING: Ignoring invalid distribution -ackaging (/home/ubuntu/.pyenv/versions/3.10.13/lib/python3.10/site-packages)\u001b[0m\u001b[33m\n",
      "\u001b[0m\u001b[33mWARNING: Ignoring invalid distribution -ackaging (/home/ubuntu/.pyenv/versions/3.10.13/lib/python3.10/site-packages)\u001b[0m\u001b[33m\n",
      "\u001b[0m\u001b[33mWARNING: Ignoring invalid distribution -ackaging (/home/ubuntu/.pyenv/versions/3.10.13/lib/python3.10/site-packages)\u001b[0m\u001b[33m\n",
      "\u001b[0m\u001b[33mWARNING: Ignoring invalid distribution -ackaging (/home/ubuntu/.pyenv/versions/3.10.13/lib/python3.10/site-packages)\u001b[0m\u001b[33m\n",
      "\u001b[0m\n",
      "\u001b[1m[\u001b[0m\u001b[34;49mnotice\u001b[0m\u001b[1;39;49m]\u001b[0m\u001b[39;49m A new release of pip is available: \u001b[0m\u001b[31;49m23.0.1\u001b[0m\u001b[39;49m -> \u001b[0m\u001b[32;49m24.0\u001b[0m\n",
      "\u001b[1m[\u001b[0m\u001b[34;49mnotice\u001b[0m\u001b[1;39;49m]\u001b[0m\u001b[39;49m To update, run: \u001b[0m\u001b[32;49mpip install --upgrade pip\u001b[0m\n",
      "\u001b[33mWARNING: Ignoring invalid distribution -ackaging (/home/ubuntu/.pyenv/versions/3.10.13/lib/python3.10/site-packages)\u001b[0m\u001b[33m\n",
      "\u001b[0m\u001b[33mWARNING: Ignoring invalid distribution -ackaging (/home/ubuntu/.pyenv/versions/3.10.13/lib/python3.10/site-packages)\u001b[0m\u001b[33m\n",
      "\u001b[0m\u001b[33mWARNING: Ignoring invalid distribution -ackaging (/home/ubuntu/.pyenv/versions/3.10.13/lib/python3.10/site-packages)\u001b[0m\u001b[33m\n",
      "\u001b[0m\u001b[33mWARNING: Ignoring invalid distribution -ackaging (/home/ubuntu/.pyenv/versions/3.10.13/lib/python3.10/site-packages)\u001b[0m\u001b[33m\n",
      "\u001b[0m\u001b[33mWARNING: Ignoring invalid distribution -ackaging (/home/ubuntu/.pyenv/versions/3.10.13/lib/python3.10/site-packages)\u001b[0m\u001b[33m\n",
      "\u001b[0m\u001b[33mWARNING: Ignoring invalid distribution -ackaging (/home/ubuntu/.pyenv/versions/3.10.13/lib/python3.10/site-packages)\u001b[0m\u001b[33m\n",
      "\u001b[0m\n",
      "\u001b[1m[\u001b[0m\u001b[34;49mnotice\u001b[0m\u001b[1;39;49m]\u001b[0m\u001b[39;49m A new release of pip is available: \u001b[0m\u001b[31;49m23.0.1\u001b[0m\u001b[39;49m -> \u001b[0m\u001b[32;49m24.0\u001b[0m\n",
      "\u001b[1m[\u001b[0m\u001b[34;49mnotice\u001b[0m\u001b[1;39;49m]\u001b[0m\u001b[39;49m To update, run: \u001b[0m\u001b[32;49mpip install --upgrade pip\u001b[0m\n",
      "\u001b[33mWARNING: Ignoring invalid distribution -ackaging (/home/ubuntu/.pyenv/versions/3.10.13/lib/python3.10/site-packages)\u001b[0m\u001b[33m\n",
      "\u001b[0m\u001b[33mWARNING: Ignoring invalid distribution -ackaging (/home/ubuntu/.pyenv/versions/3.10.13/lib/python3.10/site-packages)\u001b[0m\u001b[33m\n",
      "\u001b[0m\u001b[33mWARNING: Ignoring invalid distribution -ackaging (/home/ubuntu/.pyenv/versions/3.10.13/lib/python3.10/site-packages)\u001b[0m\u001b[33m\n",
      "\u001b[0m\u001b[33mWARNING: Ignoring invalid distribution -ackaging (/home/ubuntu/.pyenv/versions/3.10.13/lib/python3.10/site-packages)\u001b[0m\u001b[33m\n",
      "\u001b[0m\u001b[33mWARNING: Ignoring invalid distribution -ackaging (/home/ubuntu/.pyenv/versions/3.10.13/lib/python3.10/site-packages)\u001b[0m\u001b[33m\n",
      "\u001b[0m\u001b[33mWARNING: Ignoring invalid distribution -ackaging (/home/ubuntu/.pyenv/versions/3.10.13/lib/python3.10/site-packages)\u001b[0m\u001b[33m\n",
      "\u001b[0m\n",
      "\u001b[1m[\u001b[0m\u001b[34;49mnotice\u001b[0m\u001b[1;39;49m]\u001b[0m\u001b[39;49m A new release of pip is available: \u001b[0m\u001b[31;49m23.0.1\u001b[0m\u001b[39;49m -> \u001b[0m\u001b[32;49m24.0\u001b[0m\n",
      "\u001b[1m[\u001b[0m\u001b[34;49mnotice\u001b[0m\u001b[1;39;49m]\u001b[0m\u001b[39;49m To update, run: \u001b[0m\u001b[32;49mpip install --upgrade pip\u001b[0m\n",
      "\u001b[33mWARNING: Ignoring invalid distribution -ackaging (/home/ubuntu/.pyenv/versions/3.10.13/lib/python3.10/site-packages)\u001b[0m\u001b[33m\n",
      "\u001b[0m\u001b[33mWARNING: Ignoring invalid distribution -ackaging (/home/ubuntu/.pyenv/versions/3.10.13/lib/python3.10/site-packages)\u001b[0m\u001b[33m\n",
      "\u001b[0m\u001b[33mWARNING: Ignoring invalid distribution -ackaging (/home/ubuntu/.pyenv/versions/3.10.13/lib/python3.10/site-packages)\u001b[0m\u001b[33m\n",
      "\u001b[0m\u001b[33mWARNING: Ignoring invalid distribution -ackaging (/home/ubuntu/.pyenv/versions/3.10.13/lib/python3.10/site-packages)\u001b[0m\u001b[33m\n",
      "\u001b[0m\u001b[33mWARNING: Ignoring invalid distribution -ackaging (/home/ubuntu/.pyenv/versions/3.10.13/lib/python3.10/site-packages)\u001b[0m\u001b[33m\n",
      "\u001b[0m\u001b[33mWARNING: Ignoring invalid distribution -ackaging (/home/ubuntu/.pyenv/versions/3.10.13/lib/python3.10/site-packages)\u001b[0m\u001b[33m\n",
      "\u001b[0m\n",
      "\u001b[1m[\u001b[0m\u001b[34;49mnotice\u001b[0m\u001b[1;39;49m]\u001b[0m\u001b[39;49m A new release of pip is available: \u001b[0m\u001b[31;49m23.0.1\u001b[0m\u001b[39;49m -> \u001b[0m\u001b[32;49m24.0\u001b[0m\n",
      "\u001b[1m[\u001b[0m\u001b[34;49mnotice\u001b[0m\u001b[1;39;49m]\u001b[0m\u001b[39;49m To update, run: \u001b[0m\u001b[32;49mpip install --upgrade pip\u001b[0m\n",
      "\u001b[33mWARNING: Ignoring invalid distribution -ackaging (/home/ubuntu/.pyenv/versions/3.10.13/lib/python3.10/site-packages)\u001b[0m\u001b[33m\n",
      "\u001b[0m\u001b[33mWARNING: Ignoring invalid distribution -ackaging (/home/ubuntu/.pyenv/versions/3.10.13/lib/python3.10/site-packages)\u001b[0m\u001b[33m\n",
      "\u001b[0m\u001b[33mWARNING: Ignoring invalid distribution -ackaging (/home/ubuntu/.pyenv/versions/3.10.13/lib/python3.10/site-packages)\u001b[0m\u001b[33m\n",
      "\u001b[0m\u001b[33mWARNING: Ignoring invalid distribution -ackaging (/home/ubuntu/.pyenv/versions/3.10.13/lib/python3.10/site-packages)\u001b[0m\u001b[33m\n",
      "\u001b[0m\u001b[33mWARNING: Ignoring invalid distribution -ackaging (/home/ubuntu/.pyenv/versions/3.10.13/lib/python3.10/site-packages)\u001b[0m\u001b[33m\n",
      "\u001b[0m\u001b[33mWARNING: Ignoring invalid distribution -ackaging (/home/ubuntu/.pyenv/versions/3.10.13/lib/python3.10/site-packages)\u001b[0m\u001b[33m\n",
      "\u001b[0m\n",
      "\u001b[1m[\u001b[0m\u001b[34;49mnotice\u001b[0m\u001b[1;39;49m]\u001b[0m\u001b[39;49m A new release of pip is available: \u001b[0m\u001b[31;49m23.0.1\u001b[0m\u001b[39;49m -> \u001b[0m\u001b[32;49m24.0\u001b[0m\n",
      "\u001b[1m[\u001b[0m\u001b[34;49mnotice\u001b[0m\u001b[1;39;49m]\u001b[0m\u001b[39;49m To update, run: \u001b[0m\u001b[32;49mpip install --upgrade pip\u001b[0m\n",
      "\u001b[33mWARNING: Ignoring invalid distribution -ackaging (/home/ubuntu/.pyenv/versions/3.10.13/lib/python3.10/site-packages)\u001b[0m\u001b[33m\n",
      "\u001b[0m\u001b[33mWARNING: Ignoring invalid distribution -ackaging (/home/ubuntu/.pyenv/versions/3.10.13/lib/python3.10/site-packages)\u001b[0m\u001b[33m\n",
      "\u001b[0m\u001b[33mWARNING: Ignoring invalid distribution -ackaging (/home/ubuntu/.pyenv/versions/3.10.13/lib/python3.10/site-packages)\u001b[0m\u001b[33m\n",
      "\u001b[0m\u001b[33mWARNING: Ignoring invalid distribution -ackaging (/home/ubuntu/.pyenv/versions/3.10.13/lib/python3.10/site-packages)\u001b[0m\u001b[33m\n",
      "\u001b[0m\u001b[33mWARNING: Ignoring invalid distribution -ackaging (/home/ubuntu/.pyenv/versions/3.10.13/lib/python3.10/site-packages)\u001b[0m\u001b[33m\n",
      "\u001b[0m\u001b[33mWARNING: Ignoring invalid distribution -ackaging (/home/ubuntu/.pyenv/versions/3.10.13/lib/python3.10/site-packages)\u001b[0m\u001b[33m\n",
      "\u001b[0m\n",
      "\u001b[1m[\u001b[0m\u001b[34;49mnotice\u001b[0m\u001b[1;39;49m]\u001b[0m\u001b[39;49m A new release of pip is available: \u001b[0m\u001b[31;49m23.0.1\u001b[0m\u001b[39;49m -> \u001b[0m\u001b[32;49m24.0\u001b[0m\n",
      "\u001b[1m[\u001b[0m\u001b[34;49mnotice\u001b[0m\u001b[1;39;49m]\u001b[0m\u001b[39;49m To update, run: \u001b[0m\u001b[32;49mpip install --upgrade pip\u001b[0m\n"
     ]
    }
   ],
   "source": [
    "!pip install --upgrade langchain --quiet\n",
    "!pip install --upgrade feedparser --quiet\n",
    "!pip install --upgrade beautifulsoup4 --quiet\n",
    "!pip install --upgrade lxml --quiet\n",
    "!pip install --upgrade chromadb --quiet\n",
    "!pip install llama-cpp-python==0.1.85 --quiet\n",
    "!pip install huggingface-hub==0.17.1 --quiet"
   ]
  },
  {
   "cell_type": "code",
   "execution_count": 203,
   "id": "1606369e-7e6d-496a-a08c-e1edbae74f64",
   "metadata": {},
   "outputs": [
    {
     "name": "stdout",
     "output_type": "stream",
     "text": [
      "Successfully installed dependencies\n"
     ]
    }
   ],
   "source": [
    "import requests\n",
    "import json\n",
    "import pathlib\n",
    "import os\n",
    "import sys\n",
    "\n",
    "# Install Langchain dependencies\n",
    "from langchain.llms import LlamaCpp\n",
    "from langchain.vectorstores import Chroma\n",
    "from langchain.embeddings import SentenceTransformerEmbeddings\n",
    "from langchain.chains import RetrievalQA\n",
    "from langchain.memory import ConversationBufferMemory\n",
    "from langchain.embeddings import LlamaCppEmbeddings\n",
    "from langchain.text_splitter import RecursiveCharacterTextSplitter\n",
    "\n",
    "# Install Llama dependencies\n",
    "from huggingface_hub import hf_hub_download\n",
    "from llama_cpp import Llama\n",
    "\n",
    "# Install feed parsing dependencies\n",
    "import feedparser\n",
    "from bs4 import BeautifulSoup\n",
    "\n",
    "# Feedback\n",
    "print(\"Successfully installed dependencies\")"
   ]
  },
  {
   "cell_type": "code",
   "execution_count": 204,
   "id": "f82251ef-da87-4105-8034-7f0518d619bc",
   "metadata": {},
   "outputs": [],
   "source": [
    "# Define some constants\n",
    "BLOG_URL = \"https://feeds.feedburner.com/mrmoneymustache\"\n",
    "MAX_RESULTS = 5\n",
    "CHROMADB_PATH = \"chromadb\"\n",
    "MEMORY_KEY = \"memory\"\n",
    "EMBEDDINGS_MODEL_NAME = \"all-MiniLM-L6-v2\"\n",
    "BASE_DIRECTORY = \"..\\\\llms\\\\llama2\\\\\"\n",
    "HF_REPO_NAME = \"TheBloke/Llama-2-13B-chat-GGUF\"\n",
    "HF_MODEL_NAME = \"llama-2-13b-chat.Q4_K_S.gguf\"\n",
    "REPO_MODELS_FOLDER = os.path.abspath('') + \"/models\""
   ]
  },
  {
   "cell_type": "code",
   "execution_count": 205,
   "id": "da7a6691-0622-4b3b-b331-187ff95c816d",
   "metadata": {},
   "outputs": [
    {
     "name": "stdout",
     "output_type": "stream",
     "text": [
      "Successfully initialized\n"
     ]
    }
   ],
   "source": [
    "# Initialize\n",
    "splitter = RecursiveCharacterTextSplitter(chunk_size=500, chunk_overlap=100)\n",
    "os.makedirs(REPO_MODELS_FOLDER, exist_ok=True)\n",
    "model_path = hf_hub_download(\n",
    "    repo_id=HF_REPO_NAME, filename=HF_MODEL_NAME, local_dir=REPO_MODELS_FOLDER\n",
    ")\n",
    "print(\"Successfully initialized\")"
   ]
  },
  {
   "cell_type": "code",
   "execution_count": 206,
   "id": "fa9e5280-aded-4811-b80a-3da85d32267d",
   "metadata": {},
   "outputs": [
    {
     "name": "stdout",
     "output_type": "stream",
     "text": [
      "Sucessfully fetched, parsed, and split blog posts\n"
     ]
    }
   ],
   "source": [
    "# Fetch, parse, and split\n",
    "feed = feedparser.parse(BLOG_URL)\n",
    "content = []\n",
    "\n",
    "for entry in feed.entries:\n",
    "    content.append(BeautifulSoup(entry.content[0].value, \"lxml\").text)\n",
    "    \n",
    "chunks = splitter.create_documents(content)\n",
    "print(\"Sucessfully fetched, parsed, and split blog posts\")"
   ]
  },
  {
   "cell_type": "code",
   "execution_count": 216,
   "id": "44546726-7042-4b92-9387-2e080bf9641c",
   "metadata": {},
   "outputs": [
    {
     "name": "stdout",
     "output_type": "stream",
     "text": [
      "Successfully stored embeddings in vector database\n"
     ]
    }
   ],
   "source": [
    "# Embed then store in vector database\n",
    "embeddings = SentenceTransformerEmbeddings(model_name=EMBEDDINGS_MODEL_NAME)\n",
    "vectorstore = Chroma.from_documents(documents=chunks, embedding=embeddings,persist_directory=CHROMADB_PATH)\n",
    "print(\"Successfully stored embeddings in vector database\")"
   ]
  },
  {
   "cell_type": "code",
   "execution_count": 235,
   "id": "3cc259cf-1cd1-4194-a1db-04186b7da474",
   "metadata": {},
   "outputs": [],
   "source": [
    "# Initialize model and retriever\n",
    "model = LlamaCpp(model_path=model_path, verbose=False, n_ctx=2048)\n",
    "retriever = vectorstore.as_retriever(search_kwargs={\"k\":5})\n",
    "qa = RetrievalQA.from_llm(model, retriever=retriever)"
   ]
  },
  {
   "cell_type": "code",
   "execution_count": 242,
   "id": "364ce98e-0976-40d4-8260-a1303f4a4f0e",
   "metadata": {},
   "outputs": [],
   "source": [
    "# Develop pre-prompt\n",
    "pre_prompt = f\"Pretend that you are the author of the {feed.feed.title} blog: \"\n",
    "\n",
    "# Define prompting method\n",
    "def prompt_model(query):\n",
    "    if len(query) > 0:\n",
    "        res = qa(pre_prompt + query)\n",
    "        return res['result']"
   ]
  },
  {
   "cell_type": "code",
   "execution_count": 243,
   "id": "299923ee-0f23-468c-8ffc-83f65107ce4d",
   "metadata": {},
   "outputs": [
    {
     "name": "stdout",
     "output_type": "stream",
     "text": [
      "Bot: Hey! I'm the author of the Mr. Money Mustache blog, what can I do for you? Type 'end' if finished.\n"
     ]
    },
    {
     "name": "stdin",
     "output_type": "stream",
     "text": [
      "You:  Tell me about your blog\n"
     ]
    },
    {
     "name": "stdout",
     "output_type": "stream",
     "text": [
      "\n",
      "\n",
      " The Mr. Money Mustache blog is a place where I share my ideas and experiences about optimizing money and living a fun and interesting life. I write about how to save money, invest money, and retire early, but I also write about how to live a life that is fulfilling and meaningful. I believe that money is just one tool that we can use to create a life that is truly amazing, and I hope to inspire and empower my readers to create their own amazing lives.\n",
      "\n",
      "\n"
     ]
    },
    {
     "name": "stdin",
     "output_type": "stream",
     "text": [
      "You:  What are your thoughts on inflation?\n"
     ]
    },
    {
     "name": "stdout",
     "output_type": "stream",
     "text": [
      "\n",
      "\n",
      "  The author of Mr. Money Mustache blog is not concerned about inflation because he believes that it is not a significant risk to his financial plans. He thinks that inflation is a natural part of a growing economy and will not cause a significant impact on his financial goals. He also mentions that he has a long-term perspective and is not worried about short-term fluctuations in the market. He suggests that his readers should also not worry too much about inflation and instead focus on their long-term financial goals.\n",
      "\n",
      "\n"
     ]
    },
    {
     "name": "stdin",
     "output_type": "stream",
     "text": [
      "You:  end\n"
     ]
    }
   ],
   "source": [
    "# Run this to talk with the clone\n",
    "print(f\"Bot: Hey! I'm the author of the {feed.feed.title} blog, what can I do for you? Type 'end' if finished.\")\n",
    "while True:\n",
    "    prompt = input(\"You: \")\n",
    "    if prompt == \"end\":\n",
    "        break\n",
    "    else:\n",
    "        print(\"\\n\")\n",
    "        print(prompt_model(prompt))\n",
    "        print(\"\\n\")"
   ]
  }
 ],
 "metadata": {
  "kernelspec": {
   "display_name": "Python 3 (ipykernel)",
   "language": "python",
   "name": "python3"
  },
  "language_info": {
   "codemirror_mode": {
    "name": "ipython",
    "version": 3
   },
   "file_extension": ".py",
   "mimetype": "text/x-python",
   "name": "python",
   "nbconvert_exporter": "python",
   "pygments_lexer": "ipython3",
   "version": "3.10.12"
  }
 },
 "nbformat": 4,
 "nbformat_minor": 5
}
